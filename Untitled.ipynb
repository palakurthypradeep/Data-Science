{
 "cells": [
  {
   "cell_type": "code",
   "execution_count": 1,
   "id": "9f565949-7aee-4b7b-84dd-7b80651eee66",
   "metadata": {},
   "outputs": [
    {
     "name": "stdout",
     "output_type": "stream",
     "text": [
      "hello pradeep\n"
     ]
    }
   ],
   "source": [
    "print(\"hello pradeep\")"
   ]
  },
  {
   "cell_type": "code",
   "execution_count": 2,
   "id": "ba539756-c75d-4534-8050-7620b92a267e",
   "metadata": {},
   "outputs": [
    {
     "data": {
      "text/plain": [
       "50"
      ]
     },
     "execution_count": 2,
     "metadata": {},
     "output_type": "execute_result"
    }
   ],
   "source": [
    "24+26"
   ]
  },
  {
   "cell_type": "code",
   "execution_count": 4,
   "id": "b5b97595-fa43-4f36-bf4c-eaebfc6cf08a",
   "metadata": {},
   "outputs": [
    {
     "name": "stdout",
     "output_type": "stream",
     "text": [
      "i is 20\n"
     ]
    }
   ],
   "source": [
    "i=20\n",
    "if i==10:\n",
    "    print(\"i is 10\")\n",
    "elif i==15:\n",
    "    print(\"i is 15\")\n",
    "elif i==20:\n",
    "    print(\"i is 20\")\n",
    "else:\n",
    "    print(\"i is not present \")"
   ]
  },
  {
   "cell_type": "code",
   "execution_count": 5,
   "id": "220b6143-d8fd-46a7-aab0-022cd711a1b7",
   "metadata": {},
   "outputs": [
    {
     "name": "stdout",
     "output_type": "stream",
     "text": [
      "i is 20\n"
     ]
    }
   ],
   "source": [
    "i=20\n",
    "if (i==10):\n",
    "    print(\"i is 10\")\n",
    "elif (i==15):\n",
    "    print(\"i is 15\")\n",
    "elif (i==20):\n",
    "    print(\"i is 20\")\n",
    "else:\n",
    "    print(\"i is not present \")"
   ]
  },
  {
   "cell_type": "code",
   "execution_count": 6,
   "id": "6c8ffd39-4a4b-4aa8-92bf-c0751f0387d1",
   "metadata": {},
   "outputs": [
    {
     "name": "stdout",
     "output_type": "stream",
     "text": [
      "25\n"
     ]
    }
   ],
   "source": [
    "a=10\n",
    "b=15\n",
    "print(a+b)"
   ]
  },
  {
   "cell_type": "code",
   "execution_count": null,
   "id": "fb4962ec-15f3-441e-8b20-6b2112e241f5",
   "metadata": {},
   "outputs": [],
   "source": []
  }
 ],
 "metadata": {
  "kernelspec": {
   "display_name": "Python 3 (ipykernel)",
   "language": "python",
   "name": "python3"
  },
  "language_info": {
   "codemirror_mode": {
    "name": "ipython",
    "version": 3
   },
   "file_extension": ".py",
   "mimetype": "text/x-python",
   "name": "python",
   "nbconvert_exporter": "python",
   "pygments_lexer": "ipython3",
   "version": "3.11.7"
  }
 },
 "nbformat": 4,
 "nbformat_minor": 5
}
